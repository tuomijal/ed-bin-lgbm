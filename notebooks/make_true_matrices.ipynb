{
 "cells": [
  {
   "cell_type": "code",
   "execution_count": null,
   "metadata": {},
   "outputs": [],
   "source": [
    "import pandas as pd\n",
    "from pyprojroot import here\n",
    "from nutils import make_true_matrix\n",
    "\n",
    "import os"
   ]
  },
  {
   "cell_type": "code",
   "execution_count": null,
   "metadata": {
    "tags": [
     "parameters"
    ]
   },
   "outputs": [],
   "source": [
    "TARGET = 'medical'"
   ]
  },
  {
   "cell_type": "code",
   "execution_count": null,
   "metadata": {},
   "outputs": [],
   "source": [
    "target = f\"Target-Q90_{TARGET}\"\n",
    "\n",
    "path = here() / f'data/preprocessed/targets.csv'\n",
    "data = pd.read_csv(path, parse_dates=True, index_col='Datetime')\n",
    "y = data[target]\n",
    "\n",
    "# TODO: Is this the right way to calculate this? I recall that it might not be\n",
    "y = y.groupby([y.index.date, \n",
    "               y.index.hour]).first().unstack()\n",
    "\n",
    "y = y.iloc[:,8:]\n",
    "y.index.name = 'Datetime'\n",
    "true_matrix = (y.sum(axis=1)>=3).astype(int)"
   ]
  },
  {
   "cell_type": "code",
   "execution_count": null,
   "metadata": {},
   "outputs": [],
   "source": [
    "name = f\"{TARGET}\"\n",
    "\n",
    "folder = here() / 'data/processed/true_matrices/'\n",
    "\n",
    "if not os.path.exists(folder):\n",
    "    os.makedirs(folder)\n",
    "\n",
    "true_matrix.to_csv(folder / f'{name}.csv')"
   ]
  }
 ],
 "metadata": {
  "kernelspec": {
   "display_name": ".env",
   "language": "python",
   "name": "python3"
  },
  "language_info": {
   "codemirror_mode": {
    "name": "ipython",
    "version": 3
   },
   "file_extension": ".py",
   "mimetype": "text/x-python",
   "name": "python",
   "nbconvert_exporter": "python",
   "pygments_lexer": "ipython3",
   "version": "3.12.7"
  }
 },
 "nbformat": 4,
 "nbformat_minor": 2
}
