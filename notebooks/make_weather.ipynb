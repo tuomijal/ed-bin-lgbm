{
 "cells": [
  {
   "cell_type": "code",
   "execution_count": null,
   "metadata": {},
   "outputs": [],
   "source": [
    "import pandas as pd\n",
    "from pyprojroot import here"
   ]
  },
  {
   "cell_type": "code",
   "execution_count": null,
   "metadata": {},
   "outputs": [],
   "source": [
    "data = pd.read_csv(here() / 'data/raw/weather-harmala.csv')"
   ]
  },
  {
   "cell_type": "code",
   "execution_count": null,
   "metadata": {},
   "outputs": [],
   "source": [
    "data.columns = data.columns.str.replace('Vuosi', 'year')\n",
    "data.columns = data.columns.str.replace('Kuukausi', 'month')\n",
    "data.columns = data.columns.str.replace('Päivä', 'day')\n",
    "data.columns = data.columns.str.replace('Aika [Paikallinen aika]', 'hour')\n",
    "\n",
    "data.hour = data.hour.str[:2].astype(int)\n",
    "datetime = pd.to_datetime(data[['year', 'month', 'day', 'hour']])\n",
    "\n",
    "data['Datetime'] = datetime"
   ]
  },
  {
   "cell_type": "code",
   "execution_count": null,
   "metadata": {},
   "outputs": [],
   "source": [
    "data = data.drop(columns=['year', 'month', 'day', 'hour'])\n",
    "data = data.drop(columns='Havaintoasema')\n",
    "data = data.drop(columns='Maanpintaminimi [°C]')"
   ]
  },
  {
   "cell_type": "code",
   "execution_count": null,
   "metadata": {},
   "outputs": [],
   "source": [
    "data = data.set_index('Datetime')"
   ]
  },
  {
   "cell_type": "code",
   "execution_count": null,
   "metadata": {},
   "outputs": [],
   "source": [
    "data = data.replace('-', None)"
   ]
  },
  {
   "cell_type": "code",
   "execution_count": null,
   "metadata": {},
   "outputs": [],
   "source": [
    "data = data.resample('h').first()"
   ]
  },
  {
   "cell_type": "code",
   "execution_count": null,
   "metadata": {},
   "outputs": [],
   "source": [
    "data = data.astype(float)"
   ]
  },
  {
   "cell_type": "code",
   "execution_count": null,
   "metadata": {},
   "outputs": [],
   "source": [
    "data.columns = data.columns.str.replace('Sademäärä ', 'Precipitation_')\n",
    "data.columns = data.columns.str.replace('Lumensyvyys ', 'Snow_depth_')\n",
    "data.columns = data.columns.str.replace('Ilman keskilämpötila ', 'Air_temp_mean_')\n",
    "data.columns = data.columns.str.replace('Ylin lämpötila ', 'Air_temp_max_')\n",
    "data.columns = data.columns.str.replace('Alin lämpötila ', 'Air_temp_min_')\n",
    "\n",
    "data.columns = data.columns.str.replace(']', '')\n",
    "data.columns = data.columns.str.replace('[', '')\n",
    "data.columns = data.columns.str.replace('°', '')\n"
   ]
  },
  {
   "cell_type": "code",
   "execution_count": null,
   "metadata": {},
   "outputs": [],
   "source": [
    "data.columns = ['Weather-'+x for x in data.columns]"
   ]
  },
  {
   "cell_type": "code",
   "execution_count": null,
   "metadata": {},
   "outputs": [],
   "source": [
    "data.to_csv(here() / 'data/preprocessed/weather.csv')"
   ]
  }
 ],
 "metadata": {
  "kernelspec": {
   "display_name": ".env",
   "language": "python",
   "name": "python3"
  },
  "language_info": {
   "codemirror_mode": {
    "name": "ipython",
    "version": 3
   },
   "file_extension": ".py",
   "mimetype": "text/x-python",
   "name": "python",
   "nbconvert_exporter": "python",
   "pygments_lexer": "ipython3",
   "version": "3.12.7"
  }
 },
 "nbformat": 4,
 "nbformat_minor": 2
}
