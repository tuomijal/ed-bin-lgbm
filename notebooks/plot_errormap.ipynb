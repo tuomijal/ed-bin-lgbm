{
 "cells": [
  {
   "cell_type": "code",
   "execution_count": null,
   "metadata": {},
   "outputs": [],
   "source": [
    "import pandas as pd\n",
    "from pyprojroot import here\n",
    "import calmap\n",
    "from matplotlib.colors import ListedColormap\n",
    "import matplotlib.pyplot as plt\n",
    "\n",
    "from colors import *"
   ]
  },
  {
   "cell_type": "code",
   "execution_count": null,
   "metadata": {
    "tags": [
     "parameters"
    ]
   },
   "outputs": [],
   "source": [
    "TARGET = 'med'\n",
    "MODEL = 'lgbm'\n",
    "ORIGIN = 12\n",
    "HPO = 0\n",
    "FS = 0"
   ]
  },
  {
   "cell_type": "code",
   "execution_count": null,
   "metadata": {},
   "outputs": [],
   "source": [
    "pred_name = f'{TARGET}-{MODEL}-{ORIGIN}-{HPO}-{FS}'\n",
    "true_name = f'{TARGET}'"
   ]
  },
  {
   "cell_type": "code",
   "execution_count": null,
   "metadata": {},
   "outputs": [],
   "source": [
    "path = here() / f'data/processed/true_matrices/{true_name}.csv'\n",
    "y_true = pd.read_csv(path, parse_dates=True, index_col='Datetime').iloc[:,0]\n",
    "\n",
    "path = here() / f'data/processed/matrices/point/{pred_name}.csv'\n",
    "y_pred = pd.read_csv(path, parse_dates=True, index_col='Datetime').iloc[:,0]"
   ]
  },
  {
   "cell_type": "code",
   "execution_count": null,
   "metadata": {},
   "outputs": [],
   "source": [
    "df = pd.DataFrame({'y_true': y_true, 'y_pred':y_pred})\n",
    "df = df.dropna().astype(bool)"
   ]
  },
  {
   "cell_type": "code",
   "execution_count": null,
   "metadata": {},
   "outputs": [],
   "source": [
    "df = df.loc['2019']"
   ]
  },
  {
   "cell_type": "code",
   "execution_count": null,
   "metadata": {},
   "outputs": [],
   "source": [
    "df.loc[df.y_pred & df.y_true, 'result'] = 1 # TP\n",
    "df.loc[df.y_pred & ~df.y_true, 'result'] = 2 # FP\n",
    "df.loc[~df.y_pred & ~df.y_true, 'result'] = 3 # TN\n",
    "df.loc[~df.y_pred & df.y_true, 'result'] = 4 # FN"
   ]
  },
  {
   "cell_type": "code",
   "execution_count": null,
   "metadata": {},
   "outputs": [],
   "source": [
    "df.result = df.result.fillna(0)"
   ]
  },
  {
   "cell_type": "code",
   "execution_count": null,
   "metadata": {},
   "outputs": [],
   "source": [
    "r = (245/255, 50/255, 88/255)\n",
    "lr = (251/255, 181/255, 175/255)\n",
    "cmap = ListedColormap([tuni_green, tuni_red_02, tuni_green_02, tuni_red])\n",
    "\n",
    "ax = calmap.calendarplot(\n",
    "    df.result,\n",
    "    fig_kws=dict(figsize=(8,3)), \n",
    "    yearlabel_kws=dict(color='k', fontsize=14, style='normal'),\n",
    "    edgecolor='k',\n",
    "    linewidth=.1,\n",
    "    cmap=cmap\n",
    "    );\n",
    "\n",
    "plt.savefig(here() / f'output/plots/errormap-{pred_name}.png', dpi=300, bbox_inches='tight')"
   ]
  }
 ],
 "metadata": {
  "kernelspec": {
   "display_name": ".env",
   "language": "python",
   "name": "python3"
  },
  "language_info": {
   "codemirror_mode": {
    "name": "ipython",
    "version": 3
   },
   "file_extension": ".py",
   "mimetype": "text/x-python",
   "name": "python",
   "nbconvert_exporter": "python",
   "pygments_lexer": "ipython3",
   "version": "3.11.4"
  }
 },
 "nbformat": 4,
 "nbformat_minor": 2
}
