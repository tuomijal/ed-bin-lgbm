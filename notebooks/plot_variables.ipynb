{
 "cells": [
  {
   "cell_type": "code",
   "execution_count": null,
   "metadata": {},
   "outputs": [],
   "source": [
    "import pandas as pd\n",
    "from pyprojroot import here\n",
    "import matplotlib.pyplot as plt\n",
    "\n",
    "from colors import tuni_purple_01, tuni_green_01, tuni_red_01, tuni_blue_01, tuni_purple_02, tuni_blue_02"
   ]
  },
  {
   "cell_type": "code",
   "execution_count": null,
   "metadata": {},
   "outputs": [],
   "source": [
    "weather = pd.read_csv(here() / 'data/preprocessed/weather.csv', parse_dates=True, index_col='Datetime')\n",
    "beds = pd.read_csv(here() / 'data/preprocessed/beds.csv', parse_dates=True, index_col='Datetime')"
   ]
  },
  {
   "cell_type": "code",
   "execution_count": null,
   "metadata": {},
   "outputs": [],
   "source": [
    "colors = [tuni_purple_01, tuni_green_01, tuni_red_01, tuni_blue_01, tuni_purple_02, tuni_blue_02]"
   ]
  },
  {
   "cell_type": "code",
   "execution_count": null,
   "metadata": {},
   "outputs": [],
   "source": [
    "data = pd.concat([weather, beds], axis=1)"
   ]
  },
  {
   "cell_type": "code",
   "execution_count": null,
   "metadata": {},
   "outputs": [],
   "source": [
    "fig, axs = plt.subplots(nrows=3, ncols=2, sharex=False, figsize=(6,8))\n",
    "\n",
    "for ax, v, c in zip(axs.flatten(), data.columns, colors):\n",
    "    ax.hist(data[v], bins=20, edgecolor='k', lw=.5, color=c)\n",
    "    ax.set_xlabel(v)\n",
    "    ax.set_ylabel('Frequency')\n",
    "\n",
    "    \n",
    "\n",
    "axs[0][0].set_xlim(left=0)\n",
    "axs[0][1].set_xlim(left=0)\n",
    "\n",
    "\n",
    "plt.tight_layout()\n",
    "\n",
    "plt.savefig(here() / 'output/plots/variables.png', dpi=300, bbox_inches='tight')"
   ]
  }
 ],
 "metadata": {
  "kernelspec": {
   "display_name": ".env",
   "language": "python",
   "name": "python3"
  },
  "language_info": {
   "codemirror_mode": {
    "name": "ipython",
    "version": 3
   },
   "file_extension": ".py",
   "mimetype": "text/x-python",
   "name": "python",
   "nbconvert_exporter": "python",
   "pygments_lexer": "ipython3",
   "version": "3.12.7"
  }
 },
 "nbformat": 4,
 "nbformat_minor": 2
}
