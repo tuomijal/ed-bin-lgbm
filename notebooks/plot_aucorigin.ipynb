{
 "cells": [
  {
   "cell_type": "code",
   "execution_count": null,
   "metadata": {},
   "outputs": [],
   "source": [
    "import pandas as pd\n",
    "from pyprojroot import here\n",
    "import matplotlib.pyplot as plt\n",
    "plt.rcParams['image.cmap'] = 'viridis'\n",
    "\n",
    "from sklearn.metrics import auc, roc_curve\n",
    "from colors import *"
   ]
  },
  {
   "cell_type": "code",
   "execution_count": null,
   "metadata": {
    "tags": [
     "parameters"
    ]
   },
   "outputs": [],
   "source": [
    "TARGET = 'bed'"
   ]
  },
  {
   "cell_type": "code",
   "execution_count": null,
   "metadata": {},
   "outputs": [],
   "source": [
    "fig, ax = plt.subplots(figsize=(3,3))\n",
    "\n",
    "auc_values = {}\n",
    "\n",
    "for path in (here() / 'data/processed/matrices/prob').glob(f'{TARGET}*.csv'):\n",
    "    \n",
    "    TARGET = path.stem.split('-')[0]\n",
    "    MODEL = path.stem.split('-')[1]\n",
    "    ORIGIN = path.stem.split('-')[2]\n",
    "    HPO = path.stem.split('-')[3]\n",
    "    FSE = path.stem.split('-')[4]\n",
    "\n",
    "    if MODEL=='guess':\n",
    "        continue\n",
    "    \n",
    "    pred_name = f'{TARGET}-{MODEL}-{ORIGIN}-{HPO}-{FSE}'\n",
    "    true_name = f'{TARGET}'\n",
    "    \n",
    "    y_true = pd.read_csv(here() / f'data/processed/true_matrices/{true_name}.csv', index_col='Datetime')\n",
    "    y_pred = pd.read_csv(here() / f'data/processed/matrices/prob/{pred_name}.csv', index_col='Datetime')\n",
    "\n",
    "    df = pd.concat([y_true, y_pred], axis=1).dropna()\n",
    "    y_true = df.iloc[:,0]\n",
    "    y_pred = df.iloc[:,1]\n",
    "\n",
    "    fpr, tpr, thresholds = roc_curve(y_true, y_pred)\n",
    "    _auc = auc(fpr, tpr)\n",
    "    \n",
    "    ax.plot(fpr, tpr, label=f\"{ORIGIN} {_auc.round(2):.2f}\", color=c[TARGET])\n",
    "    ax.set_xlim(0,1)\n",
    "    ax.set_ylim(0,1)\n",
    "\n",
    "    ident = [0.0, 1.0]\n",
    "    ax.plot(ident,ident, ls='--', c='k', zorder=0, lw=.7)\n",
    "\n",
    "    auc_values[pred_name] = _auc\n",
    "\n",
    "# Step 2: Retrieve handles and labels\n",
    "handles, labels = plt.gca().get_legend_handles_labels()\n",
    "\n",
    "# Step 3: Sort handles and labels (here, alphabetically by label)\n",
    "labels, handles = zip(*sorted(zip(labels, handles), key=lambda t: int(t[0].split(' ')[0])))\n",
    "\n",
    "# Step 4: Create the legend with the sorted handles and labels\n",
    "plt.legend(handles, labels, frameon=False, loc=4)\n",
    "\n",
    "plt.savefig(here() / f'output/plots/aucorigin-{TARGET}.png', dpi=300, bbox_inches='tight')"
   ]
  }
 ],
 "metadata": {
  "kernelspec": {
   "display_name": ".env",
   "language": "python",
   "name": "python3"
  },
  "language_info": {
   "codemirror_mode": {
    "name": "ipython",
    "version": 3
   },
   "file_extension": ".py",
   "mimetype": "text/x-python",
   "name": "python",
   "nbconvert_exporter": "python",
   "pygments_lexer": "ipython3",
   "version": "3.11.4"
  }
 },
 "nbformat": 4,
 "nbformat_minor": 2
}
