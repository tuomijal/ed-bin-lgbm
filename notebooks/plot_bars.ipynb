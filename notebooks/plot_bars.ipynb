{
 "cells": [
  {
   "cell_type": "code",
   "execution_count": null,
   "metadata": {},
   "outputs": [],
   "source": [
    "import pandas as pd\n",
    "from pyprojroot import here\n",
    "\n",
    "import matplotlib.pyplot as plt\n",
    "import matplotlib.ticker as ticker\n",
    "\n",
    "from colors import *"
   ]
  },
  {
   "cell_type": "code",
   "execution_count": null,
   "metadata": {},
   "outputs": [],
   "source": [
    "data = pd.read_csv(here() / 'data/interim/data.csv', parse_dates=True, index_col='Datetime')\n",
    "mask = data.columns.str.startswith('Target-Q90')\n",
    "targets = data.loc[:,mask]\n",
    "targets = targets.drop(columns='Target-Q90_cri')"
   ]
  },
  {
   "cell_type": "code",
   "execution_count": null,
   "metadata": {},
   "outputs": [],
   "source": [
    "a = targets.groupby([targets.index.date, targets.index.hour]).sum().unstack()"
   ]
  },
  {
   "cell_type": "code",
   "execution_count": null,
   "metadata": {},
   "outputs": [],
   "source": [
    "#b = a.T.sum(axis=1).unstack().T\n",
    "b = ((a.T.sum(axis=1) / a.T.shape[1]).unstack().T * 100).round(0)"
   ]
  },
  {
   "cell_type": "code",
   "execution_count": null,
   "metadata": {},
   "outputs": [],
   "source": [
    "b = b[['Target-Q90_bed', 'Target-Q90_med', 'Target-Q90_sur']]"
   ]
  },
  {
   "cell_type": "code",
   "execution_count": null,
   "metadata": {},
   "outputs": [],
   "source": [
    "fig, axs = plt.subplots(figsize=(10,4), ncols=3, sharey=True)\n",
    "\n",
    "for column, ax in zip(b.columns, axs):\n",
    "    t = column.split('_')[1]\n",
    "    ax.bar(b[column].index, b[column].values, width=1, edgecolor='k', color=c[t])\n",
    "    \n",
    "    ax.set_title(t.capitalize())\n",
    "    ax.set_xlabel('Hour');\n",
    "\n",
    "    ax.xaxis.set_minor_locator(ticker.FixedLocator([x for x in range(24)]))\n",
    "    ax.xaxis.set_major_locator(ticker.FixedLocator([0, 4, 8, 12, 16, 20]))\n",
    "    ax.grid(ls='--', lw=.5)\n",
    "    ax.set_axisbelow(True)\n",
    "    \n",
    "axs[0].set_ylabel('Proportion %');\n",
    "plt.tight_layout()\n",
    "\n",
    "plt.savefig(here() / 'output/plots/bars.png', dpi=300, bbox_inches='tight')"
   ]
  }
 ],
 "metadata": {
  "kernelspec": {
   "display_name": ".env",
   "language": "python",
   "name": "python3"
  },
  "language_info": {
   "codemirror_mode": {
    "name": "ipython",
    "version": 3
   },
   "file_extension": ".py",
   "mimetype": "text/x-python",
   "name": "python",
   "nbconvert_exporter": "python",
   "pygments_lexer": "ipython3",
   "version": "3.12.7"
  }
 },
 "nbformat": 4,
 "nbformat_minor": 2
}
