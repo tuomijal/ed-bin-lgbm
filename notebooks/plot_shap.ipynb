{
 "cells": [
  {
   "cell_type": "code",
   "execution_count": null,
   "metadata": {},
   "outputs": [],
   "source": [
    "import pandas as pd\n",
    "from pyprojroot import here\n",
    "import matplotlib.pyplot as plt\n",
    "import shap\n",
    "import joblib\n",
    "\n",
    "\n",
    "from colors import *"
   ]
  },
  {
   "cell_type": "code",
   "execution_count": null,
   "metadata": {
    "tags": [
     "parameters"
    ]
   },
   "outputs": [],
   "source": [
    "TARGET = 'bed'\n",
    "origin = 11\n"
   ]
  },
  {
   "cell_type": "code",
   "execution_count": null,
   "metadata": {},
   "outputs": [],
   "source": [
    "hpo_indicator = 0\n",
    "fs_indicator = 0"
   ]
  },
  {
   "cell_type": "code",
   "execution_count": null,
   "metadata": {},
   "outputs": [],
   "source": [
    "name = f'lgbm-{hpo_indicator}-{fs_indicator}'\n",
    "path = here() / f'data/processed/models/{name}.pkl'\n",
    "model = joblib.load(path)\n",
    "model"
   ]
  },
  {
   "cell_type": "code",
   "execution_count": null,
   "metadata": {},
   "outputs": [],
   "source": [
    "data = pd.read_csv(here() / f'data/interim/melted.csv', index_col='Datetime')"
   ]
  },
  {
   "cell_type": "code",
   "execution_count": null,
   "metadata": {},
   "outputs": [],
   "source": [
    "X = data.drop(columns='Crowding')"
   ]
  },
  {
   "cell_type": "code",
   "execution_count": null,
   "metadata": {},
   "outputs": [],
   "source": [
    "explainer = shap.TreeExplainer(model)\n",
    "explanation = explainer(X)"
   ]
  },
  {
   "cell_type": "code",
   "execution_count": null,
   "metadata": {},
   "outputs": [],
   "source": [
    "shap_values = explainer.shap_values(X)"
   ]
  },
  {
   "cell_type": "code",
   "execution_count": null,
   "metadata": {},
   "outputs": [],
   "source": [
    "df = pd.DataFrame(shap_values, index=X.index, columns=X.columns)"
   ]
  },
  {
   "cell_type": "code",
   "execution_count": null,
   "metadata": {},
   "outputs": [],
   "source": [
    "top = df.abs().mean().sort_values(ascending=True).tail(10)\n",
    "\n",
    "fig, ax = plt.subplots(figsize=(7,2.5))\n",
    "top.plot.barh(width=.8, ax=ax, color=c[TARGET])\n",
    "\n",
    "ax.grid(ls='--', lw=0.5)\n",
    "ax.set_axisbelow(True)\n",
    "ax.set_xlabel('Mean |SHAP| value')\n",
    "\n",
    "#for item in ([ax.title, ax.xaxis.label, ax.yaxis.label] +\n",
    "#             ax.get_xticklabels() + ax.get_yticklabels()):\n",
    "#    item.set_fontsize(14)\n",
    "\n",
    "plt.savefig(here() / f'output/plots/shap.png', dpi=300, bbox_inches='tight')"
   ]
  }
 ],
 "metadata": {
  "kernelspec": {
   "display_name": ".env",
   "language": "python",
   "name": "python3"
  },
  "language_info": {
   "codemirror_mode": {
    "name": "ipython",
    "version": 3
   },
   "file_extension": ".py",
   "mimetype": "text/x-python",
   "name": "python",
   "nbconvert_exporter": "python",
   "pygments_lexer": "ipython3",
   "version": "3.12.7"
  }
 },
 "nbformat": 4,
 "nbformat_minor": 2
}
