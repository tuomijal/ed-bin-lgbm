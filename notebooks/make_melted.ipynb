{
 "cells": [
  {
   "cell_type": "code",
   "execution_count": null,
   "metadata": {},
   "outputs": [],
   "source": [
    "import pandas as pd\n",
    "from pyprojroot import here"
   ]
  },
  {
   "cell_type": "code",
   "execution_count": null,
   "metadata": {},
   "outputs": [],
   "source": [
    "frames = list()\n",
    "\n",
    "for p in (here() / 'data/model/').glob('*.csv'):\n",
    "    origin = int(p.stem.split('-')[1])\n",
    "    \n",
    "    model = pd.read_csv(p, parse_dates=True, index_col='Datetime')\n",
    "    d = model.melt(id_vars=model.columns[4:], ignore_index=False)\n",
    "    d.variable = d.variable.str[-3:]\n",
    "    d = d.rename(columns={'value':'Crowding', 'variable':'Subgroup'})\n",
    "\n",
    "    d['Origin'] = origin\n",
    "\n",
    "    frames.append(d)"
   ]
  },
  {
   "cell_type": "code",
   "execution_count": null,
   "metadata": {},
   "outputs": [],
   "source": [
    "df = pd.concat(frames)"
   ]
  },
  {
   "cell_type": "code",
   "execution_count": null,
   "metadata": {},
   "outputs": [],
   "source": [
    "#df = df[df.Subgroup!='cri']"
   ]
  },
  {
   "cell_type": "code",
   "execution_count": null,
   "metadata": {},
   "outputs": [],
   "source": [
    "conversion = {'bed':0,\n",
    "              'med':1,\n",
    "              'sur':2,\n",
    "              'cri':3\n",
    "              }\n",
    "\n",
    "df.Subgroup = df.Subgroup.replace(conversion)"
   ]
  },
  {
   "cell_type": "code",
   "execution_count": null,
   "metadata": {},
   "outputs": [],
   "source": [
    "df.to_csv(here() / 'data/interim/melted.csv')"
   ]
  }
 ],
 "metadata": {
  "kernelspec": {
   "display_name": ".env",
   "language": "python",
   "name": "python3"
  },
  "language_info": {
   "codemirror_mode": {
    "name": "ipython",
    "version": 3
   },
   "file_extension": ".py",
   "mimetype": "text/x-python",
   "name": "python",
   "nbconvert_exporter": "python",
   "pygments_lexer": "ipython3",
   "version": "3.12.5"
  }
 },
 "nbformat": 4,
 "nbformat_minor": 2
}
