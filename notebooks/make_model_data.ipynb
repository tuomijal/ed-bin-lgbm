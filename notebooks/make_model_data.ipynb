{
 "cells": [
  {
   "cell_type": "code",
   "execution_count": null,
   "metadata": {},
   "outputs": [],
   "source": [
    "import pandas as pd\n",
    "from pyprojroot import here\n",
    "\n",
    "from nutils import get_history\n",
    "\n",
    "import os\n",
    "\n",
    "# Set option to display all columns\n",
    "# pd.set_option('display.max_columns', None)"
   ]
  },
  {
   "cell_type": "code",
   "execution_count": null,
   "metadata": {
    "tags": [
     "parameters"
    ]
   },
   "outputs": [],
   "source": [
    "ORIGIN = 8"
   ]
  },
  {
   "cell_type": "code",
   "execution_count": null,
   "metadata": {},
   "outputs": [],
   "source": [
    "data = pd.read_csv(here() / 'data/interim/data.csv', parse_dates=True, index_col='Datetime')"
   ]
  },
  {
   "cell_type": "code",
   "execution_count": null,
   "metadata": {},
   "outputs": [],
   "source": [
    "# Targets\n",
    "mask = data.columns.str.startswith('Target-Q90')\n",
    "targets = data.loc[:,mask]\n",
    "\n",
    "targets =  data.loc[:,mask].groupby([data.index.date, data.index.hour]).first().unstack().T.groupby(level=0).sum().T\n",
    "targets = (targets>=3).astype(int)"
   ]
  },
  {
   "cell_type": "code",
   "execution_count": null,
   "metadata": {},
   "outputs": [],
   "source": [
    "# Histories\n",
    "mask = data.columns.str.startswith('Target-Q90')\n",
    "histories = data.loc[:,mask]\n",
    "\n",
    "a = list()\n",
    "\n",
    "for c in histories.columns:\n",
    "    v = histories.loc[:,c]\n",
    "    m = get_history(v, 24*7, v.name)\n",
    "    a.append(m)\n",
    "\n",
    "histories = pd.concat(a, axis=1)\n",
    "histories = histories.iloc[ORIGIN::24, : ]\n",
    "histories.index = histories.index.date"
   ]
  },
  {
   "cell_type": "code",
   "execution_count": null,
   "metadata": {},
   "outputs": [],
   "source": [
    "# Calendar\n",
    "mask = data.columns.str.startswith('Calendar')\n",
    "calendar = data.loc[:,mask]\n",
    "calendar = calendar.resample('D').first()\n",
    "calendar.index = calendar.index.date"
   ]
  },
  {
   "cell_type": "code",
   "execution_count": null,
   "metadata": {},
   "outputs": [],
   "source": [
    "# Edor\n",
    "mask = data.columns.str.startswith('Target-Edor')\n",
    "edor = data.loc[:,mask]\n",
    "\n",
    "a = list()\n",
    "\n",
    "for c in edor.columns:\n",
    "    v = edor.loc[:,c]\n",
    "    m = get_history(v, 24*7, v.name)\n",
    "    a.append(m)\n",
    "\n",
    "edor = pd.concat(a, axis=1)\n",
    "edor = edor.iloc[ORIGIN::24, : ]\n",
    "edor.index = edor.index.date\n",
    "\n",
    "#edor = edor.groupby([edor.index.date, edor.index.hour]).first()\n",
    "#idx = pd.IndexSlice\n",
    "#edor = edor.loc[idx[:, :ORIGIN], :].unstack()\n",
    "#edor.columns = [x[0] + '_' + str(x[1]) for x in edor.columns.to_flat_index()]"
   ]
  },
  {
   "cell_type": "code",
   "execution_count": null,
   "metadata": {},
   "outputs": [],
   "source": [
    "# Beds\n",
    "mask = data.columns.str.startswith('Beds')\n",
    "beds = data.loc[:,mask]\n"
   ]
  },
  {
   "cell_type": "code",
   "execution_count": null,
   "metadata": {},
   "outputs": [],
   "source": [
    "beds = beds[beds.index.hour==ORIGIN]\n",
    "beds.index = beds.index.date"
   ]
  },
  {
   "cell_type": "code",
   "execution_count": null,
   "metadata": {},
   "outputs": [],
   "source": [
    "# Weather\n",
    "mask = data.columns.str.startswith('Weather')\n",
    "weather = data.loc[:,mask]\n",
    "weather = weather.resample('D').first()\n",
    "weather.index = weather.index.date"
   ]
  },
  {
   "cell_type": "code",
   "execution_count": null,
   "metadata": {},
   "outputs": [],
   "source": [
    "# Crowding\n",
    "c7 = targets.shift(7)\n",
    "c7.columns = [f'Crowding_{x}_{7}' for x in c7.columns]\n",
    "\n",
    "c14 = targets.shift(14)\n",
    "c14.columns = [f'Crowding_{x}_{14}' for x in c14.columns]\n",
    "\n",
    "crowding = pd.concat([c7, c14], axis=1)"
   ]
  },
  {
   "cell_type": "code",
   "execution_count": null,
   "metadata": {},
   "outputs": [],
   "source": [
    "data = pd.concat([targets, histories, calendar, edor, beds, crowding, weather], axis=1)"
   ]
  },
  {
   "cell_type": "code",
   "execution_count": null,
   "metadata": {},
   "outputs": [],
   "source": [
    "data.index.name = 'Datetime'"
   ]
  },
  {
   "cell_type": "code",
   "execution_count": null,
   "metadata": {},
   "outputs": [],
   "source": [
    "folder = here() / 'data/model/'\n",
    "\n",
    "if not os.path.exists(folder):\n",
    "    os.makedirs(folder)\n",
    "\n",
    "data.to_csv(folder / f'data-{ORIGIN}.csv')"
   ]
  }
 ],
 "metadata": {
  "kernelspec": {
   "display_name": ".env",
   "language": "python",
   "name": "python3"
  },
  "language_info": {
   "codemirror_mode": {
    "name": "ipython",
    "version": 3
   },
   "file_extension": ".py",
   "mimetype": "text/x-python",
   "name": "python",
   "nbconvert_exporter": "python",
   "pygments_lexer": "ipython3",
   "version": "3.12.7"
  }
 },
 "nbformat": 4,
 "nbformat_minor": 2
}
