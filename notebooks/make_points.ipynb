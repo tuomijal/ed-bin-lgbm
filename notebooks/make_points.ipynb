{
 "cells": [
  {
   "cell_type": "code",
   "execution_count": null,
   "metadata": {},
   "outputs": [],
   "source": [
    "import pandas as pd\n",
    "import numpy as np\n",
    "from pyprojroot import here\n",
    "import os\n",
    "\n",
    "\n",
    "for path in (here() / 'data/processed/matrices/prob').glob('*.csv'):\n",
    "    print(path)\n",
    "    \n",
    "    TARGET = path.stem.split('-')[0]\n",
    "    MODEL = path.stem.split('-')[1]\n",
    "    FS = path.stem.split('-')[2]\n",
    "    HPO = path.stem.split('-')[3]\n",
    "    FSE = path.stem.split('-')[4]\n",
    "\n",
    "    pred_name = f'{TARGET}-{MODEL}-{FS}-{HPO}-{FSE}'\n",
    "    \n",
    "    y_pred = pd.read_csv(here() / f'data/processed/matrices/prob/{pred_name}.csv', index_col='Datetime')\n",
    "    \n",
    "    bin = (y_pred>0.5).astype(int)\n",
    "\n",
    "    folder = here () / 'data/processed/matrices/point/'\n",
    "    if not os.path.exists(folder):\n",
    "        os.makedirs(folder)\n",
    "\n",
    "    bin.to_csv(folder /  f'{path.stem}.csv')"
   ]
  }
 ],
 "metadata": {
  "kernelspec": {
   "display_name": ".env",
   "language": "python",
   "name": "python3"
  },
  "language_info": {
   "codemirror_mode": {
    "name": "ipython",
    "version": 3
   },
   "file_extension": ".py",
   "mimetype": "text/x-python",
   "name": "python",
   "nbconvert_exporter": "python",
   "pygments_lexer": "ipython3",
   "version": "3.11.4"
  }
 },
 "nbformat": 4,
 "nbformat_minor": 2
}
