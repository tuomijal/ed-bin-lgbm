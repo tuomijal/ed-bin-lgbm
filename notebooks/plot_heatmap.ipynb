{
 "cells": [
  {
   "cell_type": "code",
   "execution_count": null,
   "metadata": {},
   "outputs": [],
   "source": [
    "import pandas as pd\n",
    "import numpy as np\n",
    "from pyprojroot import here\n",
    "\n",
    "import matplotlib.pyplot as plt\n",
    "import matplotlib.dates as mdates\n",
    "from matplotlib.colors import ListedColormap\n",
    "\n",
    "from colors import *"
   ]
  },
  {
   "cell_type": "code",
   "execution_count": null,
   "metadata": {
    "tags": [
     "parameters"
    ]
   },
   "outputs": [],
   "source": [
    "TARGET = 'bed'"
   ]
  },
  {
   "cell_type": "code",
   "execution_count": null,
   "metadata": {},
   "outputs": [],
   "source": [
    "data = pd.read_csv(here() / 'data/preprocessed/targets.csv', \n",
    "                   index_col='Datetime', \n",
    "                   parse_dates=True)"
   ]
  },
  {
   "cell_type": "code",
   "execution_count": null,
   "metadata": {},
   "outputs": [],
   "source": [
    "series = data[f'Target-Q90_{TARGET}']"
   ]
  },
  {
   "cell_type": "code",
   "execution_count": null,
   "metadata": {},
   "outputs": [],
   "source": [
    "mat = series.groupby([series.index.date, \n",
    "                      series.index.hour]).first().unstack()"
   ]
  },
  {
   "cell_type": "code",
   "execution_count": null,
   "metadata": {},
   "outputs": [],
   "source": [
    "fig, ax = plt.subplots(figsize=(3,5))\n",
    "\n",
    "num = 30\n",
    "\n",
    "x_lims = [0, 24]\n",
    "y_lims = [0, num]\n",
    "\n",
    "cmap = ListedColormap(['white', c[TARGET]])\n",
    "\n",
    "ax.imshow(mat.head(30), \n",
    "          cmap=cmap, \n",
    "          extent=[x_lims[0], x_lims[1], y_lims[1], y_lims[0]],\n",
    "          aspect='auto',\n",
    "          origin='upper');\n",
    "\n",
    "ax.yaxis_date()\n",
    "ax.set_xlabel('Hour')\n",
    "ax.set_ylabel('Day')\n",
    "\n",
    "# Major and minor tick locators for dates\n",
    "ax.yaxis.set_major_locator(mdates.WeekdayLocator())\n",
    "ax.yaxis.set_minor_locator(mdates.DayLocator())\n",
    "\n",
    "# Formatters for major and minor ticks\n",
    "ax.yaxis.set_major_formatter(mdates.DateFormatter('%b %d'))\n",
    "ax.yaxis.set_minor_formatter(mdates.DateFormatter('%d'))\n",
    "\n",
    "ax.xaxis.set_minor_locator(plt.FixedLocator(range(24)));\n",
    "\n",
    "ax.grid(c='k', lw=.5, which='both')\n",
    "plt.savefig(here() / f'output/plots/heatmap-{TARGET}.png', \n",
    "            dpi=300, \n",
    "            bbox_inches='tight')"
   ]
  }
 ],
 "metadata": {
  "kernelspec": {
   "display_name": ".env",
   "language": "python",
   "name": "python3"
  },
  "language_info": {
   "codemirror_mode": {
    "name": "ipython",
    "version": 3
   },
   "file_extension": ".py",
   "mimetype": "text/x-python",
   "name": "python",
   "nbconvert_exporter": "python",
   "pygments_lexer": "ipython3",
   "version": "3.11.4"
  }
 },
 "nbformat": 4,
 "nbformat_minor": 2
}
