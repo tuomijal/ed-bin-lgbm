{
 "cells": [
  {
   "cell_type": "code",
   "execution_count": null,
   "metadata": {},
   "outputs": [],
   "source": [
    "import pandas as pd\n",
    "from pyprojroot import here\n",
    "import numpy as np\n",
    "import joblib\n",
    "\n",
    "import matplotlib.pyplot as plt\n",
    "from mpl_toolkits.axes_grid1.inset_locator import AnchoredSizeLocator\n",
    "\n",
    "import lime\n",
    "import lime.lime_tabular\n",
    "\n",
    "from colors import *"
   ]
  },
  {
   "cell_type": "code",
   "execution_count": null,
   "metadata": {
    "tags": [
     "parameters"
    ]
   },
   "outputs": [],
   "source": [
    "TARGET = 'bed'\n",
    "origin = 11\n"
   ]
  },
  {
   "cell_type": "code",
   "execution_count": null,
   "metadata": {},
   "outputs": [],
   "source": [
    "hpo_indicator = 0\n",
    "fs_indicator = 0"
   ]
  },
  {
   "cell_type": "code",
   "execution_count": null,
   "metadata": {},
   "outputs": [],
   "source": [
    "name = f'lgbm-{hpo_indicator}-{fs_indicator}'\n",
    "path = here() / f'data/processed/models/{name}.pkl'\n",
    "model = joblib.load(path)\n",
    "model"
   ]
  },
  {
   "cell_type": "code",
   "execution_count": null,
   "metadata": {},
   "outputs": [],
   "source": [
    "data = pd.read_csv(here() / f'data/interim/melted.csv', index_col='Datetime')"
   ]
  },
  {
   "cell_type": "code",
   "execution_count": null,
   "metadata": {},
   "outputs": [],
   "source": [
    "X = data.drop(columns='Crowding')\n",
    "X = X.dropna()"
   ]
  },
  {
   "cell_type": "code",
   "execution_count": null,
   "metadata": {},
   "outputs": [],
   "source": [
    "# LIME\n",
    "explainer_lime = lime.lime_tabular.LimeTabularExplainer(\n",
    "    X.values,\n",
    "    feature_names=X.columns,\n",
    "    verbose=True,\n",
    "    mode='classification',\n",
    "    discretize_continuous=False\n",
    ")\n"
   ]
  },
  {
   "cell_type": "code",
   "execution_count": null,
   "metadata": {},
   "outputs": [],
   "source": [
    "\n",
    "# Calculate LIME importance values\n",
    "lime_importance = pd.Series(0.0, index=X.columns)\n",
    "n_samples = min(500, len(X))  # Use 100 samples or less if dataset is smaller\n",
    "sample_indices = np.random.choice(len(X), n_samples, replace=False)\n",
    "\n",
    "for idx in sample_indices:\n",
    "    exp = explainer_lime.explain_instance(\n",
    "        X.iloc[idx].values, \n",
    "        model.predict_proba,\n",
    "        num_features=len(X.columns)\n",
    "    )\n",
    "    # Accumulate absolute importance values\n",
    "    for feature, importance in exp.local_exp[1]:\n",
    "        lime_importance[X.columns[feature]] += abs(importance)\n",
    "\n",
    "# Normalize LIME importance values\n",
    "lime_importance = lime_importance / n_samples"
   ]
  },
  {
   "cell_type": "code",
   "execution_count": null,
   "metadata": {},
   "outputs": [],
   "source": [
    "top = lime_importance.sort_values(ascending=True).tail(10)"
   ]
  },
  {
   "cell_type": "code",
   "execution_count": null,
   "metadata": {},
   "outputs": [],
   "source": [
    "fig, ax = plt.subplots(figsize=(7,2.5))\n",
    "\n",
    "top.plot.barh(width=.8, ax=ax, color=c[TARGET])\n",
    "\n",
    "ax.grid(ls='--', lw=0.5)\n",
    "ax.set_axisbelow(True)\n",
    "ax.set_xlabel('LIME value')\n",
    "\n",
    "plt.savefig(here() / f'output/plots/lime.png', dpi=300, bbox_inches='tight')"
   ]
  }
 ],
 "metadata": {
  "kernelspec": {
   "display_name": ".env",
   "language": "python",
   "name": "python3"
  },
  "language_info": {
   "codemirror_mode": {
    "name": "ipython",
    "version": 3
   },
   "file_extension": ".py",
   "mimetype": "text/x-python",
   "name": "python",
   "nbconvert_exporter": "python",
   "pygments_lexer": "ipython3",
   "version": "3.12.7"
  }
 },
 "nbformat": 4,
 "nbformat_minor": 2
}
