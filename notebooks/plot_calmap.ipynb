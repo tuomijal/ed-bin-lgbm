{
 "cells": [
  {
   "cell_type": "code",
   "execution_count": null,
   "metadata": {},
   "outputs": [],
   "source": [
    "import pandas as pd\n",
    "from pyprojroot import here\n",
    "import calmap\n",
    "\n",
    "import matplotlib.pyplot as plt\n",
    "from matplotlib.colors import ListedColormap\n",
    "\n",
    "from colors import *"
   ]
  },
  {
   "cell_type": "code",
   "execution_count": null,
   "metadata": {
    "tags": [
     "parameters"
    ]
   },
   "outputs": [],
   "source": [
    "RESOLUTION = 'd'\n",
    "TARGET = 'med'\n",
    "MODEL = 'lgbm'\n",
    "FS = 'u'\n",
    "HPO = 0"
   ]
  },
  {
   "cell_type": "code",
   "execution_count": null,
   "metadata": {},
   "outputs": [],
   "source": [
    "target = f'Target-Q90_{TARGET}'"
   ]
  },
  {
   "cell_type": "code",
   "execution_count": null,
   "metadata": {},
   "outputs": [],
   "source": [
    "data = pd.read_csv(here() / 'data/interim/data.csv', parse_dates=True, index_col='Datetime')\n",
    "data = data['2018':'2019']"
   ]
  },
  {
   "cell_type": "code",
   "execution_count": null,
   "metadata": {},
   "outputs": [],
   "source": [
    "y = data[target].resample('D').sum() >= 3"
   ]
  },
  {
   "cell_type": "code",
   "execution_count": null,
   "metadata": {},
   "outputs": [],
   "source": [
    "r = (245/255, 50/255, 88/255)\n",
    "lr = (251/255, 181/255, 175/255)\n",
    "cmap = ListedColormap(['white', c[TARGET]])\n",
    "\n",
    "ax = calmap.calendarplot(\n",
    "    y,\n",
    "    fig_kws=dict(figsize=(8,3)), \n",
    "    yearlabel_kws=dict(color='k', fontsize=14, style='normal'),\n",
    "    edgecolor='k',\n",
    "    linewidth=.1,\n",
    "    cmap=cmap\n",
    "    );\n",
    "\n",
    "plt.savefig(here() / f'output/plots/calmap-{TARGET}.png', bbox_inches='tight', dpi=300)"
   ]
  }
 ],
 "metadata": {
  "kernelspec": {
   "display_name": ".env",
   "language": "python",
   "name": "python3"
  },
  "language_info": {
   "codemirror_mode": {
    "name": "ipython",
    "version": 3
   },
   "file_extension": ".py",
   "mimetype": "text/x-python",
   "name": "python",
   "nbconvert_exporter": "python",
   "pygments_lexer": "ipython3",
   "version": "3.11.4"
  }
 },
 "nbformat": 4,
 "nbformat_minor": 2
}
