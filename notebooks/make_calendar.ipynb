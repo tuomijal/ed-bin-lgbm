{
 "cells": [
  {
   "cell_type": "code",
   "execution_count": null,
   "metadata": {},
   "outputs": [],
   "source": [
    "import pandas as pd\n",
    "from pyprojroot import here\n",
    "import holidays"
   ]
  },
  {
   "cell_type": "code",
   "execution_count": null,
   "metadata": {},
   "outputs": [],
   "source": [
    "targets = pd.read_csv(here() / 'data/preprocessed/targets.csv', \n",
    "                       parse_dates=True, \n",
    "                       index_col='Datetime')"
   ]
  },
  {
   "cell_type": "code",
   "execution_count": null,
   "metadata": {},
   "outputs": [],
   "source": [
    "# Holidays\n",
    "fin_holidays = holidays.FIN()\n",
    "\n",
    "is_holiday = [x in fin_holidays for x in targets.index]\n",
    "is_holiday = pd.Series(data = is_holiday, index=targets.index)\n",
    "is_holiday.name = 'Calendar-Holiday'\n",
    "\n",
    "after_holiday = is_holiday.shift(1)\n",
    "after_holiday.name = 'Calendar-After_holiday'\n",
    "\n",
    "before_holiday = is_holiday.shift(-1)\n",
    "before_holiday.name = 'Calendar-Before_holiday'\n",
    "\n",
    "holidays = pd.concat([is_holiday, after_holiday, before_holiday], axis=1)\n",
    "\n",
    "holidays = holidays.fillna(False).astype(int)"
   ]
  },
  {
   "cell_type": "code",
   "execution_count": null,
   "metadata": {},
   "outputs": [],
   "source": [
    "# Calendar\n",
    "weekday = targets.index.day_of_week\n",
    "month = targets.index.month\n",
    "\n",
    "calvars = pd.DataFrame({'Calendar-Weekday':weekday,\n",
    "                        'Calendar-Month': month},\n",
    "                        index=targets.index)"
   ]
  },
  {
   "cell_type": "code",
   "execution_count": null,
   "metadata": {},
   "outputs": [],
   "source": [
    "calendar = pd.concat([holidays, calvars], axis=1)\n",
    "calendar.to_csv(here() / 'data/preprocessed/calendar.csv')"
   ]
  }
 ],
 "metadata": {
  "kernelspec": {
   "display_name": ".env",
   "language": "python",
   "name": "python3"
  },
  "language_info": {
   "codemirror_mode": {
    "name": "ipython",
    "version": 3
   },
   "file_extension": ".py",
   "mimetype": "text/x-python",
   "name": "python",
   "nbconvert_exporter": "python",
   "pygments_lexer": "ipython3",
   "version": "3.11.4"
  }
 },
 "nbformat": 4,
 "nbformat_minor": 2
}
