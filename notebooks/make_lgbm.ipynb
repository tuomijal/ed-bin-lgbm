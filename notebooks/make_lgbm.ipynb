{
 "cells": [
  {
   "cell_type": "code",
   "execution_count": null,
   "metadata": {},
   "outputs": [],
   "source": [
    "import pandas as pd\n",
    "from pyprojroot import here\n",
    "from tqdm import tqdm\n",
    "\n",
    "from lightgbm import LGBMClassifier"
   ]
  },
  {
   "cell_type": "code",
   "execution_count": null,
   "metadata": {},
   "outputs": [],
   "source": [
    "data = pd.read_csv(here() / 'data/interim/melted.csv', index_col='Datetime', parse_dates=True)"
   ]
  },
  {
   "cell_type": "code",
   "execution_count": null,
   "metadata": {},
   "outputs": [],
   "source": [
    "ui = data.index.unique()"
   ]
  },
  {
   "cell_type": "code",
   "execution_count": null,
   "metadata": {},
   "outputs": [],
   "source": [
    "test_indices = ui[ui >= pd.Timestamp('2019-01-01')]"
   ]
  },
  {
   "cell_type": "code",
   "execution_count": null,
   "metadata": {},
   "outputs": [],
   "source": [
    "results = list()\n",
    "\n",
    "for i in tqdm(test_indices):\n",
    "    train_data = data[data.index < i]\n",
    "    test_data = data[data.index == i]\n",
    "\n",
    "    X_train = train_data.drop(columns='Crowding')\n",
    "    y_train = train_data['Crowding']\n",
    "\n",
    "    X_test = test_data.drop(columns='Crowding')\n",
    "\n",
    "    model = LGBMClassifier(class_weight='balanced', verbose=-1)\n",
    "    model.fit(X_train, y_train)\n",
    "    y_prob = model.predict_proba(X_test)\n",
    "\n",
    "    X_test['y_pred'] = y_prob[:,1]\n",
    "    results.append(X_test[['Origin', 'Subgroup', 'y_pred']])"
   ]
  },
  {
   "cell_type": "code",
   "execution_count": null,
   "metadata": {},
   "outputs": [],
   "source": [
    "df = pd.concat(results)"
   ]
  },
  {
   "cell_type": "code",
   "execution_count": null,
   "metadata": {},
   "outputs": [],
   "source": [
    "conversion = {0: 'bed',\n",
    "              1: 'med',\n",
    "              2: 'sur',\n",
    "              3: 'cri'\n",
    "              }\n",
    "\n",
    "df.Subgroup = df.Subgroup.replace(conversion)"
   ]
  },
  {
   "cell_type": "code",
   "execution_count": null,
   "metadata": {},
   "outputs": [],
   "source": [
    "for s in df.Subgroup.unique():\n",
    "    for o in df.Origin.unique():\n",
    "        d = df[(df.Subgroup==s) & (df.Origin==o)]\n",
    "        d['y_pred'].to_csv(here() / f'data/processed/matrices/prob/{s}-melt-{o}-0-0.csv')"
   ]
  }
 ],
 "metadata": {
  "kernelspec": {
   "display_name": ".env",
   "language": "python",
   "name": "python3"
  },
  "language_info": {
   "codemirror_mode": {
    "name": "ipython",
    "version": 3
   },
   "file_extension": ".py",
   "mimetype": "text/x-python",
   "name": "python",
   "nbconvert_exporter": "python",
   "pygments_lexer": "ipython3",
   "version": "3.11.4"
  }
 },
 "nbformat": 4,
 "nbformat_minor": 2
}
