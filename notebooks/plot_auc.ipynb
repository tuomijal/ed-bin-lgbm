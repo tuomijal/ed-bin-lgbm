{
 "cells": [
  {
   "cell_type": "code",
   "execution_count": null,
   "metadata": {},
   "outputs": [],
   "source": [
    "import pandas as pd\n",
    "from pyprojroot import here\n",
    "import matplotlib.pyplot as plt\n",
    "from sklearn.metrics import auc, roc_curve\n",
    "\n",
    "from colors import *\n",
    "\n",
    "from nutils import bootstrap_auc"
   ]
  },
  {
   "cell_type": "code",
   "execution_count": null,
   "metadata": {},
   "outputs": [],
   "source": [
    "fig, ax = plt.subplots(figsize=(4,4))\n",
    "\n",
    "auc_values = {}\n",
    "\n",
    "for path in (here() / 'data/processed/matrices/prob').glob('*-lgbm-11-*.csv'):\n",
    "    \n",
    "    TARGET = path.stem.split('-')[0]\n",
    "    MODEL = path.stem.split('-')[1]\n",
    "    FS = path.stem.split('-')[2]\n",
    "    HPO = path.stem.split('-')[3]\n",
    "    FSE = path.stem.split('-')[4]\n",
    "\n",
    "    if MODEL=='guess' or TARGET=='cri':\n",
    "        continue\n",
    "    \n",
    "    pred_name = f'{TARGET}-{MODEL}-{FS}-{HPO}-{FSE}'\n",
    "    true_name = f'{TARGET}'\n",
    "    \n",
    "    y_true = pd.read_csv(here() / f'data/processed/true_matrices/{true_name}.csv', index_col='Datetime')\n",
    "    y_pred = pd.read_csv(here() / f'data/processed/matrices/prob/{pred_name}.csv', index_col='Datetime')\n",
    "\n",
    "    df = pd.concat([y_true, y_pred], axis=1).dropna()\n",
    "    y_true = df.iloc[:,0]\n",
    "    y_pred = df.iloc[:,1]\n",
    "\n",
    "    fpr, tpr, thresholds = roc_curve(y_true, y_pred)\n",
    "    _auc = auc(fpr, tpr)\n",
    "\n",
    "    lb, ub = bootstrap_auc(y_true, y_pred)\n",
    "    \n",
    "    ax.plot(fpr, tpr, \n",
    "            label=f\"{TARGET.capitalize()} {_auc:.2f} ({lb:.2f}-{ub:.2f})\", \n",
    "            color=c[TARGET])\n",
    "    \n",
    "    ax.set_xlim(0,1)\n",
    "    ax.set_ylim(0,1)\n",
    "    ax.legend(frameon=False);\n",
    "    #ax.legend(frameon=False)\n",
    "\n",
    "    ident = [0.0, 1.0]\n",
    "    ax.plot(ident,ident, ls='--', c='k', zorder=0, lw=.7)\n",
    "\n",
    "    ax.set_xlabel('FPR')\n",
    "    ax.set_ylabel('TPR')\n",
    "\n",
    "    auc_values[pred_name] = _auc\n",
    "\n",
    "plt.savefig(here() / 'output/plots/auc.png', dpi=300, bbox_inches='tight')"
   ]
  }
 ],
 "metadata": {
  "kernelspec": {
   "display_name": ".env",
   "language": "python",
   "name": "python3"
  },
  "language_info": {
   "codemirror_mode": {
    "name": "ipython",
    "version": 3
   },
   "file_extension": ".py",
   "mimetype": "text/x-python",
   "name": "python",
   "nbconvert_exporter": "python",
   "pygments_lexer": "ipython3",
   "version": "3.11.4"
  }
 },
 "nbformat": 4,
 "nbformat_minor": 2
}
