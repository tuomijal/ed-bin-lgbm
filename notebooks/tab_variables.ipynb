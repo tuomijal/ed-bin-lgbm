{
 "cells": [
  {
   "cell_type": "code",
   "execution_count": null,
   "metadata": {},
   "outputs": [],
   "source": [
    "from pyprojroot import here\n",
    "import pandas as pd\n",
    "import numpy as np"
   ]
  },
  {
   "cell_type": "code",
   "execution_count": null,
   "metadata": {},
   "outputs": [],
   "source": [
    "df = pd.read_csv(here() / 'data/interim/melted.csv', index_col='Datetime', parse_dates=True)"
   ]
  },
  {
   "cell_type": "code",
   "execution_count": null,
   "metadata": {},
   "outputs": [],
   "source": [
    "targets = df.columns.str.startswith('Target')\n",
    "#crowding = df.columns.str.startswith('Crowding')"
   ]
  },
  {
   "cell_type": "code",
   "execution_count": null,
   "metadata": {},
   "outputs": [],
   "source": [
    "singular = df.loc[:,~(targets)]\n",
    "multiple = df.loc[:,(targets)]"
   ]
  },
  {
   "cell_type": "code",
   "execution_count": null,
   "metadata": {},
   "outputs": [],
   "source": [
    "multiple.shape"
   ]
  },
  {
   "cell_type": "code",
   "execution_count": null,
   "metadata": {},
   "outputs": [],
   "source": [
    "singular.shape"
   ]
  },
  {
   "cell_type": "code",
   "execution_count": null,
   "metadata": {},
   "outputs": [],
   "source": [
    "table = singular.describe().T"
   ]
  },
  {
   "cell_type": "code",
   "execution_count": null,
   "metadata": {},
   "outputs": [],
   "source": [
    "table.columns = table.columns.str.capitalize()"
   ]
  },
  {
   "cell_type": "code",
   "execution_count": null,
   "metadata": {},
   "outputs": [],
   "source": [
    "table.Count = table.Count.astype(int)\n",
    "table.Mean = table.Mean.round(2)\n",
    "table.Std = table.Std.round(2)"
   ]
  },
  {
   "cell_type": "code",
   "execution_count": null,
   "metadata": {},
   "outputs": [],
   "source": [
    "table.columns = table.columns.str.replace('%', '\\%');\n",
    "table.index = table.index.str.replace('_', '\\_');"
   ]
  },
  {
   "cell_type": "code",
   "execution_count": null,
   "metadata": {},
   "outputs": [],
   "source": [
    "table.index.name = 'Variable'"
   ]
  },
  {
   "cell_type": "code",
   "execution_count": null,
   "metadata": {},
   "outputs": [],
   "source": [
    "table = table.reset_index()"
   ]
  },
  {
   "cell_type": "code",
   "execution_count": null,
   "metadata": {},
   "outputs": [],
   "source": [
    "latex = table.to_latex(\n",
    "    buf=here() / 'output/tables/variables.tex',\n",
    "    float_format='%.2f',\n",
    "    position='H',\n",
    "    label='tab:variables',\n",
    "    index=False,\n",
    "    caption=r'''\n",
    "    Description of the used variables. \n",
    "    The dataset is a $18,960 \\times 1,366$ matrix. It contains each 790 days of data, \n",
    "    multiplied for each of the four subgroups and six forecast origins resulting in 18,960 \n",
    "    rows in total. In the table, the 22 variables are included. In addition, for each row, \n",
    "    168 hour lookback window of crowded hours and absolute occupancy\n",
    "    for each of the four subsections is included resulting in 1,344 columns that are ommitted here for brevity.\n",
    "    '''\n",
    ")"
   ]
  }
 ],
 "metadata": {
  "kernelspec": {
   "display_name": ".env",
   "language": "python",
   "name": "python3"
  },
  "language_info": {
   "codemirror_mode": {
    "name": "ipython",
    "version": 3
   },
   "file_extension": ".py",
   "mimetype": "text/x-python",
   "name": "python",
   "nbconvert_exporter": "python",
   "pygments_lexer": "ipython3",
   "version": "3.12.7"
  }
 },
 "nbformat": 4,
 "nbformat_minor": 2
}
