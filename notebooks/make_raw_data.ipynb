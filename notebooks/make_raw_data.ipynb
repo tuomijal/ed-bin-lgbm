{
 "cells": [
  {
   "cell_type": "code",
   "execution_count": null,
   "metadata": {},
   "outputs": [],
   "source": [
    "import pandas as pd\n",
    "from pyprojroot import here\n",
    "data  = pd.read_csv('../../ed-mor/data/interim/resampled.csv')\n",
    "\n",
    "data = data.rename(columns={'Aikaleima':'Datetime',\n",
    "                     'EDOR makaavat' : 'Target:Edor_bed',\n",
    "                     'EDOR oper' : 'Target:Edor_sur',\n",
    "                     'EDOR ensi' : 'Target:Edor_cri',\n",
    "                     'EDOR kons' : 'Target:Edor_med'})\n",
    "\n",
    "data.to_csv(here() / 'data/raw/data.csv', index=False)"
   ]
  }
 ],
 "metadata": {
  "kernelspec": {
   "display_name": ".env",
   "language": "python",
   "name": "python3"
  },
  "language_info": {
   "codemirror_mode": {
    "name": "ipython",
    "version": 3
   },
   "file_extension": ".py",
   "mimetype": "text/x-python",
   "name": "python",
   "nbconvert_exporter": "python",
   "pygments_lexer": "ipython3",
   "version": "3.11.4"
  }
 },
 "nbformat": 4,
 "nbformat_minor": 2
}
