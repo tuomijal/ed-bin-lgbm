{
 "cells": [
  {
   "cell_type": "code",
   "execution_count": null,
   "metadata": {},
   "outputs": [],
   "source": [
    "import pandas as pd\n",
    "from pyprojroot import here\n",
    "\n",
    "import matplotlib.pyplot as plt\n",
    "\n",
    "from colors import *"
   ]
  },
  {
   "cell_type": "code",
   "execution_count": null,
   "metadata": {},
   "outputs": [],
   "source": [
    "tunigreen = [0.231372549, 0.698039216, 0.603921569]\n",
    "tunired = [0.807843137, 0.188235294, 0.431372549]\n",
    "tunipink = [0.964705882, 0.831372549, 0.882352941]"
   ]
  },
  {
   "cell_type": "code",
   "execution_count": null,
   "metadata": {},
   "outputs": [],
   "source": [
    "data = pd.read_csv(here() / 'data/interim/data.csv', index_col='Datetime', parse_dates=True)\n",
    "y = data['Target-Edor_med']\n",
    "\n",
    "fig, ax = plt.subplots(figsize=(5,5))\n",
    "\n",
    "t = 24*2\n",
    "lineb = y.iloc[t:t+24]\n",
    "\n",
    "line1 = lineb.copy()\n",
    "line1.iloc[:9] = None\n",
    "\n",
    "line2 = lineb.copy()\n",
    "line2 = [None, None, None, None, None, None, None, None,\n",
    "         0.47, 0.58, 0.58, 0.75, 0.8, 0.85, 0.88, 0.88,\n",
    "         0.85, 0.80, 0.75, 0.65, 0.60, 0.55, 0.45, 0.40]\n",
    "line2 = pd.Series(data=line2, index=line1.index)\n",
    "\n",
    "lineb.iloc[10:] = None\n",
    "lineb.plot(ax=ax, color='k', label='History')\n",
    "line1.plot(ax=ax, color=tuni_red, label='Reactive');\n",
    "line2.plot(ax=ax, color=tuni_green, label='Proactive')\n",
    "\n",
    "ax.set_ylim([0,1.6])\n",
    "ax.fill_between(x=line1.index, y1=0.9, y2=1.6, color=tuni_red_01);\n",
    "ax.fill_between(x=line1.index, y1=0, y2=0.9, color='white');\n",
    "\n",
    "ax.axvline(lineb.index[8], c='k', ls='--', lw=1)\n",
    "ax.axvline(lineb.index[12], c='k', ls='--', lw=1)\n",
    "\n",
    "ax.grid(which='both', ls='--')\n",
    "ax.set_xlabel('Time')\n",
    "ax.set_ylabel('EDOR')\n",
    "\n",
    "ax.legend();\n",
    "\n",
    "plt.savefig(here() / 'output/plots/edor-example.png', dpi=300, bbox_inches='tight', transparent=True)"
   ]
  }
 ],
 "metadata": {
  "kernelspec": {
   "display_name": ".env",
   "language": "python",
   "name": "python3"
  },
  "language_info": {
   "codemirror_mode": {
    "name": "ipython",
    "version": 3
   },
   "file_extension": ".py",
   "mimetype": "text/x-python",
   "name": "python",
   "nbconvert_exporter": "python",
   "pygments_lexer": "ipython3",
   "version": "3.12.5"
  }
 },
 "nbformat": 4,
 "nbformat_minor": 2
}
